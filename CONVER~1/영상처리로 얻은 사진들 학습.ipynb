{
 "cells": [
  {
   "cell_type": "code",
   "execution_count": 2,
   "metadata": {},
   "outputs": [
    {
     "name": "stdout",
     "output_type": "stream",
     "text": [
      "WARNING:tensorflow:No training configuration found in save file: the model was *not* compiled. Compile it manually.\n"
     ]
    }
   ],
   "source": [
    "import tensorflow.keras\n",
    "from PIL import Image, ImageOps\n",
    "import numpy as np\n",
    "import os\n",
    "# Disable scientific notation for clarity\n",
    "np.set_printoptions(suppress=True)\n",
    "\n",
    "# Load the model\n",
    "model = tensorflow.keras.models.load_model('keras_model.h5')\n",
    "\n",
    "# Create the array of the right shape to feed into the keras model\n",
    "# The 'length' or number of images you can put into the array is\n",
    "# determined by the first position in the shape tuple, in this case 1.\n",
    "data = np.ndarray(shape=(1, 224, 224, 3), dtype=np.float32)\n",
    "\n"
   ]
  },
  {
   "cell_type": "code",
   "execution_count": 33,
   "metadata": {
    "scrolled": true
   },
   "outputs": [
    {
     "name": "stdout",
     "output_type": "stream",
     "text": [
      "['test0.jpg', 'test1.jpg', 'test2.jpg', 'test3.jpg', 'test4.jpg', 'test5.jpg', 'test6.jpg', 'test7.jpg']\n",
      "[[0.00008281 0.03575107 0.00020416 0.00056223 0.00010545 0.15004\n",
      "  0.00896004 0.777955   0.00004173 0.02629748]]\n",
      "육개장\n",
      "[[0.00037373 0.13922101 0.00174853 0.02288185 0.00441588 0.01109813\n",
      "  0.01620189 0.20402682 0.00400945 0.5960228 ]]\n",
      "우엉조림\n",
      "[[0.00006395 0.03919638 0.00025586 0.00113828 0.00012157 0.11701281\n",
      "  0.01541973 0.7989009  0.00007762 0.02781297]]\n",
      "육개장\n",
      "[[0.00003991 0.00019925 0.0010528  0.02357232 0.9660028  0.00001119\n",
      "  0.00318025 0.00001374 0.00023184 0.00569603]]\n",
      "현미밥\n",
      "[[0.00942773 0.06643529 0.00194893 0.04648254 0.02975833 0.02310127\n",
      "  0.00059985 0.00016012 0.00247269 0.8196133 ]]\n",
      "우엉조림\n",
      "[[0.02513235 0.01833721 0.35840723 0.00005445 0.00074579 0.00004693\n",
      "  0.00020849 0.1183299  0.16264828 0.31608942]]\n",
      "모르겠어요\n",
      "[[0.00000107 0.01202301 0.00147049 0.6420526  0.12074915 0.00069908\n",
      "  0.1737491  0.0001987  0.00017869 0.04887803]]\n",
      "흰쌀밥\n",
      "[[0.00077642 0.00236218 0.7137168  0.00007826 0.00124152 0.00000056\n",
      "  0.00008142 0.00134013 0.26562196 0.01478069]]\n",
      "두부조림\n",
      "['육개장', '우엉조림', '육개장', '현미밥', '우엉조림', '모르겠어요', '흰쌀밥', '두부조림']\n"
     ]
    }
   ],
   "source": [
    "# 음식리스트 가져오기\n",
    "label = ['불고기', '장조림', '두부조림', '흰쌀밥', '현미밥', '미역국', '북엇국', '육개장', '김치', '우엉조림']\n",
    "result = [] # 각 급식판의 조각마다 학습된 결과가 담김\n",
    "\n",
    "\n",
    "# Replace this with the path to your image\n",
    "path = 'C:/Users/82108/Downloads/openCV/opencv_/exercise'\n",
    "images = os.listdir(path)\n",
    "print(images)\n",
    "\n",
    "for img in images:\n",
    "    image = Image.open(path+'/'+img)\n",
    "    #resize the image to a 224x224 with the same strategy as in TM2:\n",
    "    #resizing the image to be at least 224x224 and then cropping from the center\n",
    "    size = (224, 224)\n",
    "    image = ImageOps.fit(image, size, Image.ANTIALIAS)\n",
    "\n",
    "    #turn the image into a numpy array\n",
    "    image_array = np.asarray(image)\n",
    "\n",
    "    # Normalize the image\n",
    "    normalized_image_array = (image_array.astype(np.float32) / 127.0) - 1\n",
    "\n",
    "    # Load the image into the array\n",
    "    data[0] = normalized_image_array\n",
    "\n",
    "    # run the inference\n",
    "    prediction = model.predict(data)\n",
    "    print(prediction)\n",
    "    max_pct = np.max(prediction[0]) # max_percentage\n",
    "    max_pct_idx = np.argmax(prediction[0]) # max_percentage's index \n",
    "    if max_pct < 0.5:\n",
    "        print('모르겠어요')\n",
    "        result.append('모르겠어요')\n",
    "    else:    \n",
    "        print(label[max_pct_idx])\n",
    "        result.append(label[max_pct_idx])\n",
    "print(result)"
   ]
  },
  {
   "cell_type": "code",
   "execution_count": null,
   "metadata": {},
   "outputs": [],
   "source": []
  }
 ],
 "metadata": {
  "kernelspec": {
   "display_name": "Python 3",
   "language": "python",
   "name": "python3"
  },
  "language_info": {
   "codemirror_mode": {
    "name": "ipython",
    "version": 3
   },
   "file_extension": ".py",
   "mimetype": "text/x-python",
   "name": "python",
   "nbconvert_exporter": "python",
   "pygments_lexer": "ipython3",
   "version": "3.5.6"
  }
 },
 "nbformat": 4,
 "nbformat_minor": 4
}
